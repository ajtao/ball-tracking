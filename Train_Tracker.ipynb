{
  "nbformat": 4,
  "nbformat_minor": 0,
  "metadata": {
    "colab": {
      "name": "Train_Tracker.ipynb",
      "provenance": [],
      "authorship_tag": "ABX9TyNFFXntt9GShr0lz1rNnG4y",
      "include_colab_link": true
    },
    "kernelspec": {
      "name": "python3",
      "display_name": "Python 3"
    },
    "language_info": {
      "name": "python"
    },
    "accelerator": "GPU"
  },
  "cells": [
    {
      "cell_type": "markdown",
      "metadata": {
        "id": "view-in-github",
        "colab_type": "text"
      },
      "source": [
        "<a href=\"https://colab.research.google.com/github/stevearonson/TrackNet-Badminton-Tracking-tensorflow2/blob/main/Train_Tracker.ipynb\" target=\"_parent\"><img src=\"https://colab.research.google.com/assets/colab-badge.svg\" alt=\"Open In Colab\"/></a>"
      ]
    },
    {
      "cell_type": "code",
      "source": [
        "!pip install piexif\n",
        "!pip install focal_loss"
      ],
      "metadata": {
        "id": "8hcXcv6RhGvo"
      },
      "execution_count": null,
      "outputs": []
    },
    {
      "cell_type": "code",
      "execution_count": null,
      "metadata": {
        "id": "Y5LaSaunglIN"
      },
      "outputs": [],
      "source": [
        "!git clone https://github.com/stevearonson/TrackNet-Badminton-Tracking-tensorflow2"
      ]
    },
    {
      "cell_type": "code",
      "source": [
        "%cd TrackNet-Badminton-Tracking-tensorflow2/"
      ],
      "metadata": {
        "id": "nodZdJlcg46V"
      },
      "execution_count": null,
      "outputs": []
    },
    {
      "cell_type": "code",
      "source": [
        "%run video2img.py"
      ],
      "metadata": {
        "id": "r6bzbniB84Sd"
      },
      "execution_count": null,
      "outputs": []
    },
    {
      "cell_type": "code",
      "source": [
        "%run train.py --epochs=1 --lr=1.0"
      ],
      "metadata": {
        "id": "KUdHQDjeg-_9"
      },
      "execution_count": null,
      "outputs": []
    },
    {
      "cell_type": "code",
      "source": [
        "%run predict.py --video_path=test/play_14.mp4 --label_path=\"\""
      ],
      "metadata": {
        "id": "U1rnR7rM9r9n"
      },
      "execution_count": null,
      "outputs": []
    }
  ]
}