{
  "nbformat": 4,
  "nbformat_minor": 0,
  "metadata": {
    "colab": {
      "name": "Train_Tracker.ipynb",
      "provenance": [],
      "machine_shape": "hm",
      "collapsed_sections": [],
      "include_colab_link": true
    },
    "kernelspec": {
      "name": "python3",
      "display_name": "Python 3"
    },
    "language_info": {
      "name": "python"
    },
    "accelerator": "GPU"
  },
  "cells": [
    {
      "cell_type": "markdown",
      "metadata": {
        "id": "view-in-github",
        "colab_type": "text"
      },
      "source": [
        "<a href=\"https://colab.research.google.com/github/ajtao/ball-tracking/blob/main/colab/Train_Tracker.ipynb\" target=\"_parent\"><img src=\"https://colab.research.google.com/assets/colab-badge.svg\" alt=\"Open In Colab\"/></a>"
      ]
    },
    {
      "cell_type": "code",
      "source": [
        "!pip install piexif\n",
        "!pip install focal_loss"
      ],
      "metadata": {
        "id": "8hcXcv6RhGvo",
        "outputId": "c35a1529-8145-4205-b53f-8592488b9bbf",
        "colab": {
          "base_uri": "https://localhost:8080/"
        }
      },
      "execution_count": 1,
      "outputs": [
        {
          "output_type": "stream",
          "name": "stdout",
          "text": [
            "Collecting piexif\n",
            "  Downloading piexif-1.1.3-py2.py3-none-any.whl (20 kB)\n",
            "Installing collected packages: piexif\n",
            "Successfully installed piexif-1.1.3\n",
            "Collecting focal_loss\n",
            "  Downloading focal_loss-0.0.7-py3-none-any.whl (19 kB)\n",
            "Requirement already satisfied: tensorflow>=2.2 in /usr/local/lib/python3.7/dist-packages (from focal_loss) (2.8.0)\n",
            "Requirement already satisfied: numpy>=1.20 in /usr/local/lib/python3.7/dist-packages (from tensorflow>=2.2->focal_loss) (1.21.5)\n",
            "Requirement already satisfied: flatbuffers>=1.12 in /usr/local/lib/python3.7/dist-packages (from tensorflow>=2.2->focal_loss) (2.0)\n",
            "Requirement already satisfied: termcolor>=1.1.0 in /usr/local/lib/python3.7/dist-packages (from tensorflow>=2.2->focal_loss) (1.1.0)\n",
            "Requirement already satisfied: libclang>=9.0.1 in /usr/local/lib/python3.7/dist-packages (from tensorflow>=2.2->focal_loss) (13.0.0)\n",
            "Requirement already satisfied: opt-einsum>=2.3.2 in /usr/local/lib/python3.7/dist-packages (from tensorflow>=2.2->focal_loss) (3.3.0)\n",
            "Requirement already satisfied: astunparse>=1.6.0 in /usr/local/lib/python3.7/dist-packages (from tensorflow>=2.2->focal_loss) (1.6.3)\n",
            "Requirement already satisfied: tensorboard<2.9,>=2.8 in /usr/local/lib/python3.7/dist-packages (from tensorflow>=2.2->focal_loss) (2.8.0)\n",
            "Requirement already satisfied: setuptools in /usr/local/lib/python3.7/dist-packages (from tensorflow>=2.2->focal_loss) (57.4.0)\n",
            "Requirement already satisfied: absl-py>=0.4.0 in /usr/local/lib/python3.7/dist-packages (from tensorflow>=2.2->focal_loss) (1.0.0)\n",
            "Requirement already satisfied: wrapt>=1.11.0 in /usr/local/lib/python3.7/dist-packages (from tensorflow>=2.2->focal_loss) (1.14.0)\n",
            "Requirement already satisfied: typing-extensions>=3.6.6 in /usr/local/lib/python3.7/dist-packages (from tensorflow>=2.2->focal_loss) (4.1.1)\n",
            "Requirement already satisfied: tensorflow-io-gcs-filesystem>=0.23.1 in /usr/local/lib/python3.7/dist-packages (from tensorflow>=2.2->focal_loss) (0.24.0)\n",
            "Requirement already satisfied: keras-preprocessing>=1.1.1 in /usr/local/lib/python3.7/dist-packages (from tensorflow>=2.2->focal_loss) (1.1.2)\n",
            "Requirement already satisfied: gast>=0.2.1 in /usr/local/lib/python3.7/dist-packages (from tensorflow>=2.2->focal_loss) (0.5.3)\n",
            "Requirement already satisfied: google-pasta>=0.1.1 in /usr/local/lib/python3.7/dist-packages (from tensorflow>=2.2->focal_loss) (0.2.0)\n",
            "Requirement already satisfied: h5py>=2.9.0 in /usr/local/lib/python3.7/dist-packages (from tensorflow>=2.2->focal_loss) (3.1.0)\n",
            "Requirement already satisfied: grpcio<2.0,>=1.24.3 in /usr/local/lib/python3.7/dist-packages (from tensorflow>=2.2->focal_loss) (1.44.0)\n",
            "Requirement already satisfied: keras<2.9,>=2.8.0rc0 in /usr/local/lib/python3.7/dist-packages (from tensorflow>=2.2->focal_loss) (2.8.0)\n",
            "Requirement already satisfied: six>=1.12.0 in /usr/local/lib/python3.7/dist-packages (from tensorflow>=2.2->focal_loss) (1.15.0)\n",
            "Requirement already satisfied: protobuf>=3.9.2 in /usr/local/lib/python3.7/dist-packages (from tensorflow>=2.2->focal_loss) (3.17.3)\n",
            "Collecting tf-estimator-nightly==2.8.0.dev2021122109\n",
            "  Downloading tf_estimator_nightly-2.8.0.dev2021122109-py2.py3-none-any.whl (462 kB)\n",
            "\u001b[K     |████████████████████████████████| 462 kB 39.7 MB/s \n",
            "\u001b[?25hRequirement already satisfied: wheel<1.0,>=0.23.0 in /usr/local/lib/python3.7/dist-packages (from astunparse>=1.6.0->tensorflow>=2.2->focal_loss) (0.37.1)\n",
            "Requirement already satisfied: cached-property in /usr/local/lib/python3.7/dist-packages (from h5py>=2.9.0->tensorflow>=2.2->focal_loss) (1.5.2)\n",
            "Requirement already satisfied: markdown>=2.6.8 in /usr/local/lib/python3.7/dist-packages (from tensorboard<2.9,>=2.8->tensorflow>=2.2->focal_loss) (3.3.6)\n",
            "Requirement already satisfied: google-auth-oauthlib<0.5,>=0.4.1 in /usr/local/lib/python3.7/dist-packages (from tensorboard<2.9,>=2.8->tensorflow>=2.2->focal_loss) (0.4.6)\n",
            "Requirement already satisfied: werkzeug>=0.11.15 in /usr/local/lib/python3.7/dist-packages (from tensorboard<2.9,>=2.8->tensorflow>=2.2->focal_loss) (1.0.1)\n",
            "Requirement already satisfied: tensorboard-data-server<0.7.0,>=0.6.0 in /usr/local/lib/python3.7/dist-packages (from tensorboard<2.9,>=2.8->tensorflow>=2.2->focal_loss) (0.6.1)\n",
            "Requirement already satisfied: google-auth<3,>=1.6.3 in /usr/local/lib/python3.7/dist-packages (from tensorboard<2.9,>=2.8->tensorflow>=2.2->focal_loss) (1.35.0)\n",
            "Requirement already satisfied: tensorboard-plugin-wit>=1.6.0 in /usr/local/lib/python3.7/dist-packages (from tensorboard<2.9,>=2.8->tensorflow>=2.2->focal_loss) (1.8.1)\n",
            "Requirement already satisfied: requests<3,>=2.21.0 in /usr/local/lib/python3.7/dist-packages (from tensorboard<2.9,>=2.8->tensorflow>=2.2->focal_loss) (2.23.0)\n",
            "Requirement already satisfied: rsa<5,>=3.1.4 in /usr/local/lib/python3.7/dist-packages (from google-auth<3,>=1.6.3->tensorboard<2.9,>=2.8->tensorflow>=2.2->focal_loss) (4.8)\n",
            "Requirement already satisfied: cachetools<5.0,>=2.0.0 in /usr/local/lib/python3.7/dist-packages (from google-auth<3,>=1.6.3->tensorboard<2.9,>=2.8->tensorflow>=2.2->focal_loss) (4.2.4)\n",
            "Requirement already satisfied: pyasn1-modules>=0.2.1 in /usr/local/lib/python3.7/dist-packages (from google-auth<3,>=1.6.3->tensorboard<2.9,>=2.8->tensorflow>=2.2->focal_loss) (0.2.8)\n",
            "Requirement already satisfied: requests-oauthlib>=0.7.0 in /usr/local/lib/python3.7/dist-packages (from google-auth-oauthlib<0.5,>=0.4.1->tensorboard<2.9,>=2.8->tensorflow>=2.2->focal_loss) (1.3.1)\n",
            "Requirement already satisfied: importlib-metadata>=4.4 in /usr/local/lib/python3.7/dist-packages (from markdown>=2.6.8->tensorboard<2.9,>=2.8->tensorflow>=2.2->focal_loss) (4.11.3)\n",
            "Requirement already satisfied: zipp>=0.5 in /usr/local/lib/python3.7/dist-packages (from importlib-metadata>=4.4->markdown>=2.6.8->tensorboard<2.9,>=2.8->tensorflow>=2.2->focal_loss) (3.8.0)\n",
            "Requirement already satisfied: pyasn1<0.5.0,>=0.4.6 in /usr/local/lib/python3.7/dist-packages (from pyasn1-modules>=0.2.1->google-auth<3,>=1.6.3->tensorboard<2.9,>=2.8->tensorflow>=2.2->focal_loss) (0.4.8)\n",
            "Requirement already satisfied: idna<3,>=2.5 in /usr/local/lib/python3.7/dist-packages (from requests<3,>=2.21.0->tensorboard<2.9,>=2.8->tensorflow>=2.2->focal_loss) (2.10)\n",
            "Requirement already satisfied: certifi>=2017.4.17 in /usr/local/lib/python3.7/dist-packages (from requests<3,>=2.21.0->tensorboard<2.9,>=2.8->tensorflow>=2.2->focal_loss) (2021.10.8)\n",
            "Requirement already satisfied: chardet<4,>=3.0.2 in /usr/local/lib/python3.7/dist-packages (from requests<3,>=2.21.0->tensorboard<2.9,>=2.8->tensorflow>=2.2->focal_loss) (3.0.4)\n",
            "Requirement already satisfied: urllib3!=1.25.0,!=1.25.1,<1.26,>=1.21.1 in /usr/local/lib/python3.7/dist-packages (from requests<3,>=2.21.0->tensorboard<2.9,>=2.8->tensorflow>=2.2->focal_loss) (1.24.3)\n",
            "Requirement already satisfied: oauthlib>=3.0.0 in /usr/local/lib/python3.7/dist-packages (from requests-oauthlib>=0.7.0->google-auth-oauthlib<0.5,>=0.4.1->tensorboard<2.9,>=2.8->tensorflow>=2.2->focal_loss) (3.2.0)\n",
            "Installing collected packages: tf-estimator-nightly, focal-loss\n",
            "Successfully installed focal-loss-0.0.7 tf-estimator-nightly-2.8.0.dev2021122109\n"
          ]
        }
      ]
    },
    {
      "cell_type": "code",
      "source": [
        "from google.colab import drive\n",
        "drive.mount('/content/gdrive')"
      ],
      "metadata": {
        "colab": {
          "base_uri": "https://localhost:8080/"
        },
        "id": "BlVeEN0IKses",
        "outputId": "09f59272-7a04-4fb0-ab47-e800917f134e"
      },
      "execution_count": 2,
      "outputs": [
        {
          "output_type": "stream",
          "name": "stdout",
          "text": [
            "Mounted at /content/gdrive\n"
          ]
        }
      ]
    },
    {
      "cell_type": "code",
      "execution_count": 3,
      "metadata": {
        "id": "Y5LaSaunglIN",
        "outputId": "6eb8950c-ae04-4a5d-a20b-c56e6f374193",
        "colab": {
          "base_uri": "https://localhost:8080/"
        }
      },
      "outputs": [
        {
          "output_type": "stream",
          "name": "stdout",
          "text": [
            "Cloning into 'TrackNet-Badminton-Tracking-tensorflow2'...\n",
            "remote: Enumerating objects: 836, done.\u001b[K\n",
            "remote: Counting objects: 100% (836/836), done.\u001b[K\n",
            "remote: Compressing objects: 100% (795/795), done.\u001b[K\n",
            "remote: Total 836 (delta 90), reused 766 (delta 37), pack-reused 0\u001b[K\n",
            "Receiving objects: 100% (836/836), 285.28 MiB | 17.12 MiB/s, done.\n",
            "Resolving deltas: 100% (90/90), done.\n"
          ]
        }
      ],
      "source": [
        "!git clone https://github.com/stevearonson/TrackNet-Badminton-Tracking-tensorflow2"
      ]
    },
    {
      "cell_type": "code",
      "source": [
        "%cd TrackNet-Badminton-Tracking-tensorflow2/"
      ],
      "metadata": {
        "id": "nodZdJlcg46V",
        "colab": {
          "base_uri": "https://localhost:8080/"
        },
        "outputId": "68751cb9-c348-4e25-8319-8d09309a15d7"
      },
      "execution_count": 4,
      "outputs": [
        {
          "output_type": "stream",
          "name": "stdout",
          "text": [
            "/content/TrackNet-Badminton-Tracking-tensorflow2\n"
          ]
        }
      ]
    },
    {
      "cell_type": "code",
      "source": [
        "%run video2img.py"
      ],
      "metadata": {
        "id": "r6bzbniB84Sd",
        "colab": {
          "base_uri": "https://localhost:8080/"
        },
        "outputId": "4ebc7795-4172-4a35-f445-8df968bec8ca"
      },
      "execution_count": null,
      "outputs": [
        {
          "output_type": "stream",
          "name": "stdout",
          "text": [
            "==========Convert Start==========\n",
            "Convert Video: /content/gdrive/MyDrive/vball/ball_tracking/raw_data/20210827_southcarolinastate_colorado_play_11.mp4\n",
            "==========Convert End==========\n",
            "Convert Video: /content/gdrive/MyDrive/vball/ball_tracking/raw_data/20210827_southcarolinastate_colorado_play_19.mp4\n",
            "==========Convert End==========\n",
            "Convert Video: /content/gdrive/MyDrive/vball/ball_tracking/raw_data/20210827_southcarolinastate_colorado_play_49.mp4\n",
            "==========Convert End==========\n",
            "Convert Video: /content/gdrive/MyDrive/vball/ball_tracking/raw_data/20210827_southcarolinastate_colorado_play_5.mp4\n",
            "==========Convert End==========\n",
            "Convert Video: /content/gdrive/MyDrive/vball/ball_tracking/raw_data/20210827_southcarolinastate_colorado_play_59.mp4\n",
            "==========Convert End==========\n",
            "Convert Video: /content/gdrive/MyDrive/vball/ball_tracking/raw_data/20210827_southcarolinastate_colorado_play_65.mp4\n",
            "==========Convert End==========\n",
            "Convert Video: /content/gdrive/MyDrive/vball/ball_tracking/raw_data/20210827_southcarolinastate_colorado_play_75.mp4\n",
            "==========Convert End==========\n",
            "Convert Video: /content/gdrive/MyDrive/vball/ball_tracking/raw_data/20210827_southcarolinastate_colorado_play_88.mp4\n",
            "==========Convert End==========\n",
            "Convert Video: /content/gdrive/MyDrive/vball/ball_tracking/raw_data/20210827_southcarolinastate_colorado_play_9.mp4\n",
            "==========Convert End==========\n",
            "Convert Video: /content/gdrive/MyDrive/vball/ball_tracking/raw_data/20210827_southcarolinastate_colorado_play_96.mp4\n",
            "==========Convert End==========\n",
            "Convert Video: /content/gdrive/MyDrive/vball/ball_tracking/raw_data/20210828_unccharlotte_colorado_play_114.mp4\n",
            "==========Convert End==========\n",
            "Convert Video: /content/gdrive/MyDrive/vball/ball_tracking/raw_data/20210828_unccharlotte_colorado_play_14.mp4\n",
            "==========Convert End==========\n",
            "Convert Video: /content/gdrive/MyDrive/vball/ball_tracking/raw_data/20210828_unccharlotte_colorado_play_58.mp4\n",
            "==========Convert End==========\n",
            "Convert Video: /content/gdrive/MyDrive/vball/ball_tracking/raw_data/20210828_unccharlotte_colorado_play_6.mp4\n",
            "==========Convert End==========\n",
            "Convert Video: /content/gdrive/MyDrive/vball/ball_tracking/raw_data/20210828_unccharlotte_colorado_play_61.mp4\n",
            "==========Convert End==========\n",
            "Convert Video: /content/gdrive/MyDrive/vball/ball_tracking/raw_data/20210828_unccharlotte_colorado_play_66.mp4\n",
            "==========Convert End==========\n",
            "Convert Video: /content/gdrive/MyDrive/vball/ball_tracking/raw_data/20210828_unccharlotte_colorado_play_69.mp4\n",
            "==========Convert End==========\n",
            "Convert Video: /content/gdrive/MyDrive/vball/ball_tracking/raw_data/20210828_unccharlotte_colorado_play_83.mp4\n",
            "==========Convert End==========\n",
            "Convert Video: /content/gdrive/MyDrive/vball/ball_tracking/raw_data/20210828_unccharlotte_colorado_play_85.mp4\n",
            "==========Convert End==========\n",
            "Convert Video: /content/gdrive/MyDrive/vball/ball_tracking/raw_data/20210828_unccharlotte_colorado_play_94.mp4\n",
            "==========Convert End==========\n",
            "Convert Video: /content/gdrive/MyDrive/vball/ball_tracking/raw_data/20210828_xavier_colorado_play_100.mp4\n",
            "==========Convert End==========\n",
            "Convert Video: /content/gdrive/MyDrive/vball/ball_tracking/raw_data/20210828_xavier_colorado_play_139.mp4\n",
            "==========Convert End==========\n",
            "Convert Video: /content/gdrive/MyDrive/vball/ball_tracking/raw_data/20210828_xavier_colorado_play_159.mp4\n",
            "==========Convert End==========\n",
            "Convert Video: /content/gdrive/MyDrive/vball/ball_tracking/raw_data/20210828_xavier_colorado_play_176.mp4\n",
            "==========Convert End==========\n",
            "Convert Video: /content/gdrive/MyDrive/vball/ball_tracking/raw_data/20210828_xavier_colorado_play_19.mp4\n",
            "==========Convert End==========\n",
            "Convert Video: /content/gdrive/MyDrive/vball/ball_tracking/raw_data/20210828_xavier_colorado_play_38.mp4\n"
          ]
        }
      ]
    },
    {
      "cell_type": "code",
      "source": [
        "%run train.py --epochs=1 --lr=1.0 --match_folder /content/gdrive/MyDrive/vball/ball_tracking/train_data"
      ],
      "metadata": {
        "id": "KUdHQDjeg-_9",
        "colab": {
          "base_uri": "https://localhost:8080/",
          "height": 337
        },
        "outputId": "8c143399-c43c-4904-8601-29e75d447b37"
      },
      "execution_count": null,
      "outputs": [
        {
          "output_type": "stream",
          "name": "stderr",
          "text": [
            "/usr/local/lib/python3.7/dist-packages/keras/optimizer_v2/adadelta.py:74: UserWarning: The `lr` argument is deprecated, use `learning_rate` instead.\n",
            "  super(Adadelta, self).__init__(name, **kwargs)\n"
          ]
        },
        {
          "output_type": "stream",
          "name": "stdout",
          "text": [
            "Beginning training......\n"
          ]
        },
        {
          "output_type": "error",
          "ename": "FileNotFoundError",
          "evalue": "ignored",
          "traceback": [
            "\u001b[0;31m---------------------------------------------------------------------------\u001b[0m",
            "\u001b[0;31mFileNotFoundError\u001b[0m                         Traceback (most recent call last)",
            "\u001b[0;32m/content/TrackNet-Badminton-Tracking-tensorflow2/train.py\u001b[0m in \u001b[0;36m<module>\u001b[0;34m()\u001b[0m\n\u001b[1;32m     39\u001b[0m \u001b[0mprint\u001b[0m\u001b[0;34m(\u001b[0m\u001b[0;34m'Beginning training......'\u001b[0m\u001b[0;34m)\u001b[0m\u001b[0;34m\u001b[0m\u001b[0;34m\u001b[0m\u001b[0m\n\u001b[1;32m     40\u001b[0m \u001b[0mmatch_path\u001b[0m \u001b[0;34m=\u001b[0m \u001b[0margs\u001b[0m\u001b[0;34m.\u001b[0m\u001b[0mmatch_folder\u001b[0m\u001b[0;34m\u001b[0m\u001b[0;34m\u001b[0m\u001b[0m\n\u001b[0;32m---> 41\u001b[0;31m \u001b[0mmatch_list\u001b[0m \u001b[0;34m=\u001b[0m \u001b[0;34m[\u001b[0m\u001b[0mos\u001b[0m\u001b[0;34m.\u001b[0m\u001b[0msep\u001b[0m\u001b[0;34m.\u001b[0m\u001b[0mjoin\u001b[0m\u001b[0;34m(\u001b[0m\u001b[0;34m[\u001b[0m\u001b[0mos\u001b[0m\u001b[0;34m.\u001b[0m\u001b[0mgetcwd\u001b[0m\u001b[0;34m(\u001b[0m\u001b[0;34m)\u001b[0m\u001b[0;34m,\u001b[0m \u001b[0mmatch_path\u001b[0m\u001b[0;34m,\u001b[0m \u001b[0mmatch\u001b[0m\u001b[0;34m]\u001b[0m\u001b[0;34m)\u001b[0m \u001b[0;32mfor\u001b[0m \u001b[0mmatch\u001b[0m \u001b[0;32min\u001b[0m \u001b[0mos\u001b[0m\u001b[0;34m.\u001b[0m\u001b[0mlistdir\u001b[0m\u001b[0;34m(\u001b[0m\u001b[0mmatch_path\u001b[0m\u001b[0;34m)\u001b[0m\u001b[0;34m]\u001b[0m\u001b[0;34m\u001b[0m\u001b[0;34m\u001b[0m\u001b[0m\n\u001b[0m\u001b[1;32m     42\u001b[0m \u001b[0;34m\u001b[0m\u001b[0m\n\u001b[1;32m     43\u001b[0m \u001b[0mwait\u001b[0m \u001b[0;34m=\u001b[0m \u001b[0;36m0\u001b[0m\u001b[0;34m\u001b[0m\u001b[0;34m\u001b[0m\u001b[0m\n",
            "\u001b[0;31mFileNotFoundError\u001b[0m: [Errno 2] No such file or directory: '/content/gdrive/MyDrive/vball/ball_tracking/train_data'"
          ]
        }
      ]
    },
    {
      "cell_type": "code",
      "source": [
        "%run predict.py --video_path=/content/gdrive/MyDrive/vball/ball_tracking/test/anderson_serve.mp4 --label_path=\"\""
      ],
      "metadata": {
        "id": "U1rnR7rM9r9n"
      },
      "execution_count": null,
      "outputs": []
    }
  ]
}